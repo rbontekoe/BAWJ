{
 "cells": [
  {
   "cell_type": "markdown",
   "metadata": {},
   "source": [
    "# Aging Report"
   ]
  },
  {
   "cell_type": "markdown",
   "metadata": {},
   "source": [
    "Below you see the code to retrieve the aging report from the Docker container test_sshd2.\n",
    "\n",
    "See also the example code on [AppliAR.jl](https://www.appligate.nl/AppliAR.jl/stable/chapter4/).\n",
    "\n",
    "### Activate the local environment in the TestAppliAR folder\n",
    "\n",
    "The application uses the packages:\n",
    "- AppliSales\n",
    "- AppliGeneralLegder\n",
    "- AppliAR (add https://github.com/rbontekoe/AppliAR.jl)\n",
    "- DataFrames\n",
    "- Rocket\n",
    "- Query"
   ]
  },
  {
   "cell_type": "code",
   "execution_count": 1,
   "metadata": {},
   "outputs": [
    {
     "name": "stderr",
     "output_type": "stream",
     "text": [
      "\u001b[32m\u001b[1m Activating\u001b[22m\u001b[39m environment at `~/projects/TestAppliAR/Project.toml`\n"
     ]
    }
   ],
   "source": [
    "using Pkg; Pkg.activate(\".\");"
   ]
  },
  {
   "cell_type": "markdown",
   "metadata": {},
   "source": [
    "### Load [Rocket.jl](https://github.com/biaslab/Rocket.jl), the actor package"
   ]
  },
  {
   "cell_type": "code",
   "execution_count": 2,
   "metadata": {},
   "outputs": [],
   "source": [
    "using Rocket"
   ]
  },
  {
   "cell_type": "markdown",
   "metadata": {},
   "source": [
    "### Restart the containers test_sshd and test_sshd2\n",
    "\n",
    "See section 3 `creating the containers` of the course: [BAWJ](https://www.appligate.nl/BAWJ/stable/chapter13/)"
   ]
  },
  {
   "cell_type": "code",
   "execution_count": 3,
   "metadata": {},
   "outputs": [
    {
     "name": "stdout",
     "output_type": "stream",
     "text": [
      "test_sshd\n",
      "test_sshd2\n",
      "test_sshd\n",
      "test_sshd2\n"
     ]
    }
   ],
   "source": [
    "cmd = `docker stop test_sshd` # General Ledger\n",
    "run(cmd);\n",
    "cmd = `docker stop test_sshd2` # Accounts Receivable\n",
    "run(cmd);\n",
    "cmd = `docker start test_sshd`\n",
    "run(cmd);\n",
    "cmd = `docker start test_sshd2`\n",
    "run(cmd);"
   ]
  },
  {
   "cell_type": "markdown",
   "metadata": {},
   "source": [
    "### Allow distributed computation"
   ]
  },
  {
   "cell_type": "code",
   "execution_count": 4,
   "metadata": {},
   "outputs": [],
   "source": [
    "using Distributed"
   ]
  },
  {
   "cell_type": "markdown",
   "metadata": {},
   "source": [
    "### Connect to the containes test_sshd (General Ledger) and test_sshd2 (Accounts Receivable)"
   ]
  },
  {
   "cell_type": "code",
   "execution_count": 5,
   "metadata": {},
   "outputs": [
    {
     "data": {
      "text/plain": [
       "1-element Array{Int64,1}:\n",
       " 3"
      ]
     },
     "execution_count": 5,
     "metadata": {},
     "output_type": "execute_result"
    }
   ],
   "source": [
    "addprocs([(\"rob@172.17.0.2\", 1)]; exeflags=`--project=$(Base.active_project())`, tunnel=true, dir=\"/home/rob\")\n",
    "addprocs([(\"rob@172.17.0.3\", 1)]; exeflags=`--project=$(Base.active_project())`, tunnel=true, dir=\"/home/rob\")"
   ]
  },
  {
   "cell_type": "markdown",
   "metadata": {},
   "source": [
    "### Assign the two processes"
   ]
  },
  {
   "cell_type": "code",
   "execution_count": 6,
   "metadata": {},
   "outputs": [
    {
     "data": {
      "text/plain": [
       "3"
      ]
     },
     "execution_count": 6,
     "metadata": {},
     "output_type": "execute_result"
    }
   ],
   "source": [
    "gl_pid = procs()[2] # general ledger\n",
    "ar_pid = procs()[3] # accounts receivable (invoices/bankstatements)"
   ]
  },
  {
   "cell_type": "markdown",
   "metadata": {},
   "source": [
    "### Load the packages"
   ]
  },
  {
   "cell_type": "code",
   "execution_count": 7,
   "metadata": {},
   "outputs": [],
   "source": [
    "@everywhere using AppliSales\n",
    "@everywhere using AppliGeneralLedger\n",
    "@everywhere using AppliAR\n",
    "@everywhere using Query"
   ]
  },
  {
   "cell_type": "markdown",
   "metadata": {},
   "source": [
    "### Load the actors\n",
    "\n",
    "See: [actors.jl](https://www.appligate.nl/AppliAR.jl/stable/chapter4/#actors.jl)"
   ]
  },
  {
   "cell_type": "code",
   "execution_count": 8,
   "metadata": {},
   "outputs": [],
   "source": [
    "include(\"./src/actors.jl\");"
   ]
  },
  {
   "cell_type": "code",
   "execution_count": 9,
   "metadata": {},
   "outputs": [],
   "source": [
    "sales_actor = SalesActor()\n",
    "ar_actor = ARActor(ar_pid)\n",
    "gl_actor = GLActor(gl_pid)\n",
    "stm_actor = StmActor();"
   ]
  },
  {
   "cell_type": "markdown",
   "metadata": {},
   "source": [
    "### Start the application\n",
    "\n",
    "                           StmActor\n",
    "                              |\n",
    "                              | BankStatement(s)\n",
    "                              ↓       \n",
    "       SalesActor -------> ARActor -------> GLActor\n",
    "                  Order(s)    ↑    Entry(s)    ↑\n",
    "                              ↓                ↓\n",
    "                            Store            Store\n",
    "\n",
    "The SalesActor sends a message with three orders to the ARActor (Accounts Receivable Actor). The ARActor creates three invoices and sends the journal entries to the GLActor (General Ledger Actor). "
   ]
  },
  {
   "cell_type": "code",
   "execution_count": 10,
   "metadata": {},
   "outputs": [
    {
     "data": {
      "text/plain": [
       "3-element Array{AppliSales.Order,1}:\n",
       " AppliSales.Order(\"670402629847452872\", AppliSales.Organization(\"7769092163788803777\", \"Scrooge Investment Bank\", \"1180 Seven Seas Dr\", \"FL 32830\", \"Lake Buena Vista\", \"USA\"), AppliSales.Training(\"LS\", Dates.DateTime(\"2019-08-30T00:00:00\"), 2, \"Learn Smiling\", 1000.0), \"PO-456\", \"Scrooge McDuck\", \"scrooge@duckcity.com\", [\"Scrooge McDuck\"])\n",
       " AppliSales.Order(\"10551933522330692664\", AppliSales.Organization(\"5619503041329077350\", \"Duck City Chronicals\", \"1185 Seven Seas Dr\", \"FL 32830\", \"Lake Buena Vista\", \"USA\"), AppliSales.Training(\"LS\", Dates.DateTime(\"2019-08-30T00:00:00\"), 2, \"Learn Smiling\", 1000.0), \"DD-001\", \"Mickey Mouse\", \"mickey@duckcity.com\", [\"Mini Mouse\", \"Goofy\"])\n",
       " AppliSales.Order(\"636974396306383826\", AppliSales.Organization(\"10561277296584314514\", \"Donalds Hardware Store\", \"1190 Seven Seas Dr\", \"FL 32830\", \"Lake Buena Vista\", \"USA\"), AppliSales.Training(\"LS\", Dates.DateTime(\"2019-08-30T00:00:00\"), 2, \"Learn Smiling\", 1000.0), \"\", \"Donald Duck\", \"donald@duckcity.com\", [\"Daisy Duck\"])"
      ]
     },
     "execution_count": 10,
     "metadata": {},
     "output_type": "execute_result"
    }
   ],
   "source": [
    "AppliSales.process() # The three orders"
   ]
  },
  {
   "cell_type": "code",
   "execution_count": 11,
   "metadata": {},
   "outputs": [
    {
     "name": "stderr",
     "output_type": "stream",
     "text": [
      "┌ Info: GLActor completed!\n",
      "└ @ Main /home/rob/projects/TestAppliAR/src/actors.jl:54\n",
      "┌ Info: GLActor completed!\n",
      "└ @ Main /home/rob/projects/TestAppliAR/src/actors.jl:54\n",
      "┌ Info: GLActor completed!\n",
      "└ @ Main /home/rob/projects/TestAppliAR/src/actors.jl:54\n",
      "┌ Info: ARActor Completed!\n",
      "└ @ Main /home/rob/projects/TestAppliAR/src/actors.jl:41\n",
      "┌ Info: SalesActor completed!\n",
      "└ @ Main /home/rob/projects/TestAppliAR/src/actors.jl:24\n"
     ]
    }
   ],
   "source": [
    "subscribe!(from([\"START\"]), sales_actor); # Start the application"
   ]
  },
  {
   "cell_type": "markdown",
   "metadata": {},
   "source": [
    "### Process the two bankstatements"
   ]
  },
  {
   "cell_type": "code",
   "execution_count": 12,
   "metadata": {},
   "outputs": [
    {
     "name": "stdout",
     "output_type": "stream",
     "text": [
      "stms = BankStatement[BankStatement(Dates.Date(\"2020-01-15\"), \"Duck City Chronicals Invoice A1002\", \"NL93INGB\", 2420.0), BankStatement(Dates.Date(\"2020-01-15\"), \"Donalds Hardware Store Bill A1003\", \"NL39INGB\", 1210.0)]\n"
     ]
    },
    {
     "name": "stderr",
     "output_type": "stream",
     "text": [
      "┌ Info: GLActor completed!\n",
      "└ @ Main /home/rob/projects/TestAppliAR/src/actors.jl:54\n",
      "┌ Info: GLActor completed!\n",
      "└ @ Main /home/rob/projects/TestAppliAR/src/actors.jl:54\n",
      "┌ Info: ARActor Completed!\n",
      "└ @ Main /home/rob/projects/TestAppliAR/src/actors.jl:41\n",
      "┌ Info: StmActor completed!\n",
      "└ @ Main /home/rob/projects/TestAppliAR/src/actors.jl:13\n"
     ]
    }
   ],
   "source": [
    "subscribe!(from([\"READ_STMS\"]), stm_actor); "
   ]
  },
  {
   "cell_type": "markdown",
   "metadata": {},
   "source": [
    "### Display General Leger Accounts Receivable (1300)\n",
    "\n",
    "You can play with the accountids of the general ledger:\n",
    "- 1150 Bank\n",
    "- 1300 Accounts Receivable\n",
    "- 4000 VAT\n",
    "- 8000 Sales"
   ]
  },
  {
   "cell_type": "code",
   "execution_count": 13,
   "metadata": {},
   "outputs": [],
   "source": [
    "using DataFrames"
   ]
  },
  {
   "cell_type": "code",
   "execution_count": 20,
   "metadata": {},
   "outputs": [
    {
     "data": {
      "text/html": [
       "<table class=\"data-frame\"><thead><tr><th></th><th>invoice_nbr</th><th>customerid</th><th>debit</th><th>credit</th><th>descr</th></tr><tr><th></th><th>String</th><th>String</th><th>Float64</th><th>Float64</th><th>String</th></tr></thead><tbody><p>5 rows × 5 columns</p><tr><th>1</th><td>A1001</td><td>Scrooge Investment Bank</td><td>1210.0</td><td>0.0</td><td>Learn Smiling</td></tr><tr><th>2</th><td>A1002</td><td>Duck City Chronicals</td><td>2420.0</td><td>0.0</td><td>Learn Smiling</td></tr><tr><th>3</th><td>A1003</td><td>Donalds Hardware Store</td><td>1210.0</td><td>0.0</td><td>Learn Smiling</td></tr><tr><th>4</th><td>A1002</td><td>Duck City Chronicals</td><td>0.0</td><td>2420.0</td><td>Learn Smiling</td></tr><tr><th>5</th><td>A1003</td><td>Donalds Hardware Store</td><td>0.0</td><td>1210.0</td><td>Learn Smiling</td></tr></tbody></table>"
      ],
      "text/latex": [
       "\\begin{tabular}{r|ccccc}\n",
       "\t& invoice\\_nbr & customerid & debit & credit & descr\\\\\n",
       "\t\\hline\n",
       "\t& String & String & Float64 & Float64 & String\\\\\n",
       "\t\\hline\n",
       "\t1 & A1001 & Scrooge Investment Bank & 1210.0 & 0.0 & Learn Smiling \\\\\n",
       "\t2 & A1002 & Duck City Chronicals & 2420.0 & 0.0 & Learn Smiling \\\\\n",
       "\t3 & A1003 & Donalds Hardware Store & 1210.0 & 0.0 & Learn Smiling \\\\\n",
       "\t4 & A1002 & Duck City Chronicals & 0.0 & 2420.0 & Learn Smiling \\\\\n",
       "\t5 & A1003 & Donalds Hardware Store & 0.0 & 1210.0 & Learn Smiling \\\\\n",
       "\\end{tabular}\n"
      ],
      "text/plain": [
       "5×5 DataFrame. Omitted printing of 1 columns\n",
       "│ Row │ invoice_nbr │ customerid              │ debit   │ credit  │\n",
       "│     │ \u001b[90mString\u001b[39m      │ \u001b[90mString\u001b[39m                  │ \u001b[90mFloat64\u001b[39m │ \u001b[90mFloat64\u001b[39m │\n",
       "├─────┼─────────────┼─────────────────────────┼─────────┼─────────┤\n",
       "│ 1   │ A1001       │ Scrooge Investment Bank │ 1210.0  │ 0.0     │\n",
       "│ 2   │ A1002       │ Duck City Chronicals    │ 2420.0  │ 0.0     │\n",
       "│ 3   │ A1003       │ Donalds Hardware Store  │ 1210.0  │ 0.0     │\n",
       "│ 4   │ A1002       │ Duck City Chronicals    │ 0.0     │ 2420.0  │\n",
       "│ 5   │ A1003       │ Donalds Hardware Store  │ 0.0     │ 1210.0  │"
      ]
     },
     "execution_count": 20,
     "metadata": {},
     "output_type": "execute_result"
    }
   ],
   "source": [
    "gl = @fetchfrom gl_pid AppliGeneralLedger.read_from_file(\"./test_ledger.txt\")\n",
    "df = gl |> @filter(_.accountid == 8000) |> DataFrame\n",
    "df[[:invoice_nbr, :customerid, :debit, :credit, :descr]]"
   ]
  },
  {
   "cell_type": "markdown",
   "metadata": {},
   "source": [
    "### Retrieve Aging Report (Unpaid invoices)"
   ]
  },
  {
   "cell_type": "code",
   "execution_count": 18,
   "metadata": {},
   "outputs": [
    {
     "data": {
      "text/html": [
       "<table class=\"data-frame\"><thead><tr><th></th><th>id_inv</th><th>csm</th><th>inv_date</th><th>amount</th><th>days</th></tr><tr><th></th><th>String</th><th>String</th><th>Dates…</th><th>Float64</th><th>Dates…</th></tr></thead><tbody><p>1 rows × 5 columns</p><tr><th>1</th><td>A1001</td><td>Scrooge Investment Bank</td><td>Date(\"2020-12-24\")</td><td>1210.0</td><td>Day(0)</td></tr></tbody></table>"
      ],
      "text/latex": [
       "\\begin{tabular}{r|ccccc}\n",
       "\t& id\\_inv & csm & inv\\_date & amount & days\\\\\n",
       "\t\\hline\n",
       "\t& String & String & Dates… & Float64 & Dates…\\\\\n",
       "\t\\hline\n",
       "\t1 & A1001 & Scrooge Investment Bank & Date(\"2020-12-24\") & 1210.0 & Day(0) \\\\\n",
       "\\end{tabular}\n"
      ],
      "text/plain": [
       "1×5 DataFrame. Omitted printing of 1 columns\n",
       "│ Row │ id_inv │ csm                     │ inv_date           │ amount  │\n",
       "│     │ \u001b[90mString\u001b[39m │ \u001b[90mString\u001b[39m                  │ \u001b[90mDates.Date\u001b[39m         │ \u001b[90mFloat64\u001b[39m │\n",
       "├─────┼────────┼─────────────────────────┼────────────────────┼─────────┤\n",
       "│ 1   │ A1001  │ Scrooge Investment Bank │ Date(\"2020-12-24\") │ 1210.0  │"
      ]
     },
     "execution_count": 18,
     "metadata": {},
     "output_type": "execute_result"
    }
   ],
   "source": [
    "ar = @fetchfrom ar_pid report()\n",
    "ar |> DataFrame"
   ]
  },
  {
   "cell_type": "markdown",
   "metadata": {},
   "source": [
    "### Remove the data files from the containers\n",
    "\n",
    "The SalesActor creates the orders only one time. To repeat the process, the data files have to be remove otherwise you get dublicated records. Keep in mind that also this notebook has to restarted (shutdown and start), unless you don't run cells 4 untill 13 again."
   ]
  },
  {
   "cell_type": "code",
   "execution_count": 16,
   "metadata": {},
   "outputs": [
    {
     "data": {
      "text/plain": [
       "Process(`\u001b[4mssh\u001b[24m \u001b[4mrob@172.17.0.2\u001b[24m \u001b[4m' rm'\u001b[24m \u001b[4m'test*'\u001b[24m`, ProcessExited(0))"
      ]
     },
     "execution_count": 16,
     "metadata": {},
     "output_type": "execute_result"
    }
   ],
   "source": [
    "cmd = `ssh rob@172.17.0.2 \\ rm test\\*`\n",
    "run(cmd)"
   ]
  },
  {
   "cell_type": "code",
   "execution_count": 17,
   "metadata": {},
   "outputs": [
    {
     "data": {
      "text/plain": [
       "Process(`\u001b[4mssh\u001b[24m \u001b[4mrob@172.17.0.3\u001b[24m \u001b[4m' rm'\u001b[24m \u001b[4m'test*'\u001b[24m \u001b[4minvoicenbr.txt\u001b[24m`, ProcessExited(0))"
      ]
     },
     "execution_count": 17,
     "metadata": {},
     "output_type": "execute_result"
    }
   ],
   "source": [
    "cmd = `ssh rob@172.17.0.3 \\ rm test\\* invoicenbr.txt`\n",
    "run(cmd)"
   ]
  },
  {
   "cell_type": "code",
   "execution_count": null,
   "metadata": {},
   "outputs": [],
   "source": []
  }
 ],
 "metadata": {
  "kernelspec": {
   "display_name": "Julia 1.5.3",
   "language": "julia",
   "name": "julia-1.5"
  },
  "language_info": {
   "file_extension": ".jl",
   "mimetype": "application/julia",
   "name": "julia",
   "version": "1.5.3"
  }
 },
 "nbformat": 4,
 "nbformat_minor": 4
}
